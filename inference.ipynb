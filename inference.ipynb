{
 "cells": [
  {
   "cell_type": "markdown",
   "metadata": {},
   "source": [
    "# Model Inference"
   ]
  },
  {
   "cell_type": "code",
   "execution_count": 3,
   "metadata": {},
   "outputs": [],
   "source": [
    "# imports\n",
    "import torch, os\n",
    "import matplotlib.pyplot as plt\n",
    "import numpy as np\n",
    "from source.net import *\n",
    "from source.utils import *\n",
    "from source.dataset import *\n",
    "from torch.utils.data import DataLoader, random_split\n",
    "from tqdm import tqdm\n",
    "from sklearn.metrics import accuracy_score\n",
    "from pathlib import Path\n",
    "\n",
    "device = \"cuda:0\"\n"
   ]
  },
  {
   "cell_type": "code",
   "execution_count": 4,
   "metadata": {},
   "outputs": [
    {
     "name": "stdout",
     "output_type": "stream",
     "text": [
      "Loaded checkpoint-/work/ai4bio2024/rxrx1/checkpoints/simclr_head/checkpoint50\n",
      "Loaded checkpoint-/work/ai4bio2024/rxrx1/checkpoints/simclr_head/checkpoint70\n",
      "Loaded checkpoint-/work/ai4bio2024/rxrx1/checkpoints/simclr_head/checkpoint20\n",
      "Loaded checkpoint-/work/ai4bio2024/rxrx1/checkpoints/simclr_head/checkpoint80\n",
      "Loaded checkpoint-/work/ai4bio2024/rxrx1/checkpoints/simclr_head/checkpoint100\n",
      "Loaded checkpoint-/work/ai4bio2024/rxrx1/checkpoints/simclr_head/checkpoint10\n",
      "Loaded checkpoint-/work/ai4bio2024/rxrx1/checkpoints/simclr_head/checkpoint30\n",
      "Loaded checkpoint-/work/ai4bio2024/rxrx1/checkpoints/simclr_head/checkpoint60\n",
      "Loaded checkpoint-/work/ai4bio2024/rxrx1/checkpoints/simclr_head/checkpoint90\n",
      "Loaded checkpoint-/work/ai4bio2024/rxrx1/checkpoints/simclr_head/checkpoint40\n"
     ]
    }
   ],
   "source": [
    "backbone = load_net('simclr')\n",
    "fc_head = load_net('fc_head', {'num_classes': 1139})\n",
    "checkpoint_dir = Path(\"/work/ai4bio2024/rxrx1/checkpoints/simclr_head\")\n",
    "checkpoints, nets = [], []\n",
    "\n",
    "for file_name in checkpoint_dir.iterdir():\n",
    "    nets.append(CellClassifier(backbone, fc_head))\n",
    "    checkpoints.append(file_name)\n",
    "\n",
    "for i in range(len(nets)):\n",
    "    nets[i] = nets[i].to(device)\n",
    "    load_weights(checkpoints[i], nets[i], device)\n",
    "\n",
    "for checkpoint, net in zip(checkpoints, nets):\n",
    "    print(f\"Loaded checkpoint-{checkpoint}\")"
   ]
  },
  {
   "cell_type": "code",
   "execution_count": 5,
   "metadata": {},
   "outputs": [],
   "source": [
    "split_sizes = [0.7, 0.15, 0.15]\n",
    "dataset = Rxrx1('/work/ai4bio2024/rxrx1')\n",
    "train_size = int(split_sizes[0] * len(dataset))\n",
    "val_size = int(split_sizes[1] * len(dataset))\n",
    "test_size = len(dataset) - train_size - val_size\n",
    "generator = torch.Generator().manual_seed(42)\n",
    "train_dataset, val_dataset, test_dataset = random_split(dataset, [train_size, val_size, test_size], generator=generator)\n",
    "test_dataloader = DataLoader(test_dataset, batch_size=128, pin_memory_device=device,\n",
    "                             pin_memory=True, num_workers=12, drop_last=True, prefetch_factor=2)"
   ]
  },
  {
   "cell_type": "code",
   "execution_count": 6,
   "metadata": {},
   "outputs": [
    {
     "name": "stderr",
     "output_type": "stream",
     "text": [
      "100%|██████████| 147/147 [02:42<00:00,  1.11s/it]\n"
     ]
    }
   ],
   "source": [
    "pred_labels, true_labels = [], []\n",
    "\n",
    "for i in range(len(nets)):\n",
    "    nets[i].eval()\n",
    "    pred_labels.append([])\n",
    "    true_labels.append([])\n",
    "\n",
    "for x_batch, _, y_batch in tqdm(test_dataloader):\n",
    "    x_batch, y_batch = x_batch.to(torch.float).to(device), y_batch.to(device)\n",
    "    for i in range(len(nets)):\n",
    "        y_pred = nets[i](x_batch).argmax(dim=1)\n",
    "        true_labels[i].append(y_batch)\n",
    "        pred_labels[i].append(y_pred)"
   ]
  },
  {
   "cell_type": "code",
   "execution_count": 7,
   "metadata": {},
   "outputs": [
    {
     "name": "stdout",
     "output_type": "stream",
     "text": [
      "Accuracy-checkpoint50:0.03752125850340136\n",
      "Accuracy-checkpoint70:0.03752125850340136\n",
      "Accuracy-checkpoint20:0.03752125850340136\n",
      "Accuracy-checkpoint80:0.03752125850340136\n",
      "Accuracy-checkpoint100:0.03752125850340136\n",
      "Accuracy-checkpoint10:0.03752125850340136\n",
      "Accuracy-checkpoint30:0.03752125850340136\n",
      "Accuracy-checkpoint60:0.03752125850340136\n",
      "Accuracy-checkpoint90:0.03752125850340136\n",
      "Accuracy-checkpoint40:0.03752125850340136\n"
     ]
    }
   ],
   "source": [
    "for i in range(len(nets)):\n",
    "    print(f\"Accuracy-{str(checkpoints[i]).split('/')[-1]}:{accuracy_score(torch.cat(true_labels[i]).cpu(), torch.cat(pred_labels[i]).cpu())}\")"
   ]
  },
  {
   "cell_type": "code",
   "execution_count": null,
   "metadata": {},
   "outputs": [],
   "source": []
  }
 ],
 "metadata": {
  "kernelspec": {
   "display_name": "base",
   "language": "python",
   "name": "python3"
  },
  "language_info": {
   "codemirror_mode": {
    "name": "ipython",
    "version": 3
   },
   "file_extension": ".py",
   "mimetype": "text/x-python",
   "name": "python",
   "nbconvert_exporter": "python",
   "pygments_lexer": "ipython3",
   "version": "3.9.13"
  }
 },
 "nbformat": 4,
 "nbformat_minor": 2
}
