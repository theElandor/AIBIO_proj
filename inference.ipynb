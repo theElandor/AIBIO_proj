{
 "cells": [
  {
   "cell_type": "markdown",
   "metadata": {},
   "source": [
    "# Model Inference"
   ]
  },
  {
   "cell_type": "code",
   "execution_count": 1,
   "metadata": {},
   "outputs": [],
   "source": [
    "# imports\n",
    "import torch\n",
    "import matplotlib.pyplot as plt\n",
    "import numpy as np\n",
    "from source.net import *\n",
    "from source.utils import *\n",
    "from source.dataset import *\n",
    "from torch.utils.data import DataLoader, random_split\n",
    "from tqdm import tqdm\n",
    "from sklearn.metrics import accuracy_score"
   ]
  },
  {
   "cell_type": "code",
   "execution_count": 2,
   "metadata": {},
   "outputs": [],
   "source": [
    "checkpoint = torch.load(\"/work/ai4bio2024/rxrx1/checkpoints/simclr_head/checkpoint4\")\n",
    "net_weights = checkpoint['model_state_dict']\n",
    "device = \"cuda:0\"\n"
   ]
  },
  {
   "cell_type": "code",
   "execution_count": 3,
   "metadata": {},
   "outputs": [],
   "source": [
    "backbone = load_net('simclr')\n",
    "fc_head = load_net('fc_head', {'num_classes':1139})\n",
    "\n",
    "net = CellClassifier(backbone, fc_head)\n",
    "load_weights(\"/work/ai4bio2024/rxrx1/checkpoints/simclr_head/checkpoint4\",net, 'cuda:0')\n",
    "net = net.to(device)"
   ]
  },
  {
   "cell_type": "code",
   "execution_count": 4,
   "metadata": {},
   "outputs": [],
   "source": [
    "split_sizes = [0.7, 0.15, 0.15]\n",
    "dataset = Rxrx1('/work/ai4bio2024/rxrx1')\n",
    "train_size = int(split_sizes[0] * len(dataset))\n",
    "val_size = int(split_sizes[1] * len(dataset))\n",
    "test_size = len(dataset) - train_size - val_size\n",
    "train_dataset, val_dataset, test_dataset = random_split(dataset, [train_size, val_size, test_size])\n",
    "test_dataloader = DataLoader(test_dataset, batch_size=128, pin_memory_device=device, pin_memory=True,\n",
    "                             shuffle=True, num_workers=12, drop_last=True, prefetch_factor=2)"
   ]
  },
  {
   "cell_type": "code",
   "execution_count": 5,
   "metadata": {},
   "outputs": [
    {
     "name": "stderr",
     "output_type": "stream",
     "text": [
      "100%|██████████| 147/147 [00:15<00:00,  9.26it/s]\n"
     ]
    }
   ],
   "source": [
    "net.eval()\n",
    "pred_label, true_label = [], []\n",
    "for x_batch, _, y_batch in tqdm(test_dataloader):\n",
    "        x_batch, y_batch = x_batch.to(torch.float).to(device), y_batch.to(device)\n",
    "        y_pred = net(x_batch).argmax(dim=1)\n",
    "        true_label.append(y_batch)\n",
    "        pred_label.append(y_pred)\n",
    "\n",
    "\n",
    "        "
   ]
  },
  {
   "cell_type": "code",
   "execution_count": 9,
   "metadata": {},
   "outputs": [
    {
     "data": {
      "text/plain": [
       "0.09183673469387756"
      ]
     },
     "execution_count": 9,
     "metadata": {},
     "output_type": "execute_result"
    }
   ],
   "source": [
    "accuracy_score(torch.cat(true_label).cpu(), torch.cat(pred_label).cpu())"
   ]
  },
  {
   "cell_type": "code",
   "execution_count": null,
   "metadata": {},
   "outputs": [],
   "source": []
  }
 ],
 "metadata": {
  "kernelspec": {
   "display_name": "base",
   "language": "python",
   "name": "python3"
  },
  "language_info": {
   "codemirror_mode": {
    "name": "ipython",
    "version": 3
   },
   "file_extension": ".py",
   "mimetype": "text/x-python",
   "name": "python",
   "nbconvert_exporter": "python",
   "pygments_lexer": "ipython3",
   "version": "3.9.13"
  }
 },
 "nbformat": 4,
 "nbformat_minor": 2
}
