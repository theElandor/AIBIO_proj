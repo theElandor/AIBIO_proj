{
 "cells": [
  {
   "cell_type": "code",
   "execution_count": 1,
   "metadata": {},
   "outputs": [],
   "source": [
    "import torch, os\n",
    "import matplotlib.pyplot as plt\n",
    "import numpy as np\n",
    "from source.net import *\n",
    "from source.utils import *\n",
    "from source.dataset import *\n",
    "from torch.utils.data import DataLoader, random_split\n",
    "from tqdm import tqdm\n",
    "from sklearn.metrics import accuracy_score\n",
    "from pathlib import Path\n",
    "from torch.utils.data import Subset\n",
    "\n",
    "device = \"cuda:0\""
   ]
  },
  {
   "cell_type": "code",
   "execution_count": 2,
   "metadata": {},
   "outputs": [
    {
     "name": "stdout",
     "output_type": "stream",
     "text": [
      "Loaded checkpoint-/homes/mlugli/checkpoints/head_norm/checkpoint20\n"
     ]
    }
   ],
   "source": [
    "backbone = load_net('simclr')\n",
    "fc_head = load_net('fc_head', {'num_classes': 1139})\n",
    "checkpoint = Path(\"/homes/mlugli/checkpoints/head_norm/checkpoint20\")\n",
    "net = CellClassifier(backbone, fc_head).to(device)\n",
    "load_weights(checkpoint, net, device)\n",
    "print(f\"Loaded checkpoint-{checkpoint}\")"
   ]
  },
  {
   "cell_type": "code",
   "execution_count": 3,
   "metadata": {},
   "outputs": [],
   "source": [
    "from source.dataset import Rxrx1\n",
    "dataset = Rxrx1(\"/work/ai4bio2024/rxrx1\",\"metadata_plate_norm.csv\")"
   ]
  },
  {
   "cell_type": "code",
   "execution_count": 4,
   "metadata": {},
   "outputs": [],
   "source": [
    "batch_size = 64\n",
    "metadata = dataset.get_metadata()\n",
    "test_indices = metadata.index[metadata.iloc[:, 3] == 'test'].tolist()\n",
    "test_dataset = Subset(dataset, test_indices)\n",
    "test_dataloader = DataLoader(test_dataset, batch_size=batch_size, num_workers=4, shuffle=False, collate_fn=simple_collate)"
   ]
  },
  {
   "cell_type": "code",
   "execution_count": 7,
   "metadata": {},
   "outputs": [
    {
     "name": "stderr",
     "output_type": "stream",
     "text": [
      "100%|██████████| 538/538 [03:15<00:00,  2.75it/s]\n"
     ]
    }
   ],
   "source": [
    "net.eval()\n",
    "true_labels, pred_labels = [], []\n",
    "for x_batch, siRNA_batch, metadata in tqdm(test_dataloader):\n",
    "    x_batch, y_batch = x_batch.to(torch.float).to(device), torch.tensor(siRNA_batch).to(device)\n",
    "    y_pred = net(x_batch).argmax(dim=1)\n",
    "    true_labels.append(y_batch)\n",
    "    pred_labels.append(y_pred)"
   ]
  },
  {
   "cell_type": "code",
   "execution_count": 8,
   "metadata": {},
   "outputs": [
    {
     "name": "stdout",
     "output_type": "stream",
     "text": [
      "Accuracy-checkpoint20:0.03546119888475836\n"
     ]
    }
   ],
   "source": [
    "print(f\"Accuracy-{str(checkpoint).split('/')[-1]}:{accuracy_score(torch.cat(true_labels).cpu(), torch.cat(pred_labels).cpu())}\")"
   ]
  }
 ],
 "metadata": {
  "kernelspec": {
   "display_name": "base",
   "language": "python",
   "name": "python3"
  },
  "language_info": {
   "codemirror_mode": {
    "name": "ipython",
    "version": 3
   },
   "file_extension": ".py",
   "mimetype": "text/x-python",
   "name": "python",
   "nbconvert_exporter": "python",
   "pygments_lexer": "ipython3",
   "version": "3.9.13"
  }
 },
 "nbformat": 4,
 "nbformat_minor": 2
}
