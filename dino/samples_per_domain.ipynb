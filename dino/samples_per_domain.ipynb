{
 "cells": [
  {
   "cell_type": "code",
   "execution_count": 15,
   "metadata": {},
   "outputs": [],
   "source": [
    "import pandas as pd\n",
    "import numpy as np\n",
    "def get_samples_per_domain(metadata_path):\n",
    "\t\"\"\"\n",
    "\tComputes the number of samples per domain in the dataset.\n",
    "\tWe use hardcoded offsets because we want X-01 and Y-01 to have different indices,\n",
    "\twhere X and Y are different cell types.\n",
    "\tArgs:\n",
    "\t\tmetadata_path: path to the metadata file.\n",
    "\tReturns:\n",
    "\t\tspd: a 3xN matrix where N is the number of domains in the dataset. \n",
    "\t\t\t\n",
    "\t\"\"\"\n",
    "\tprint(\"Computing samples per domain...\")\n",
    "\tdataset = pd.read_csv(metadata_path)\t\n",
    "\ttrain = dataset[dataset['dataset'] == 'train']\n",
    "\ttest = dataset[dataset['dataset'] == 'test']\n",
    "\tval = dataset[dataset['dataset'] == 'val']\n",
    "\tprint(f\"Train set: found {len(train)} images\")\n",
    "\tprint(f\"Test set: found {len(test)} images\")\n",
    "\tprint(f\"Validation set: found {len(val)} images\")\n",
    "\tmapping = {k:i for i,k in enumerate(train[\"experiment\"].unique())}\n",
    "\tn_of_domains = len(train[\"experiment\"].unique())\n",
    "\tspd = np.zeros(n_of_domains)\t\n",
    "\tvals = train['experiment'].value_counts()\n",
    "\tfor domain in vals.index:\n",
    "\t\tspd[mapping[domain]] = vals[domain]\n",
    "\treturn spd, mapping"
   ]
  },
  {
   "cell_type": "code",
   "execution_count": null,
   "metadata": {},
   "outputs": [
    {
     "name": "stdout",
     "output_type": "stream",
     "text": [
      "Computing samples per domain...\n",
      "Train set: found 81224 images\n",
      "Test set: found 34432 images\n",
      "Validation set: found 9854 images\n"
     ]
    },
    {
     "data": {
      "text/plain": [
       "{'HEPG2-01': 0,\n",
       " 'HEPG2-02': 1,\n",
       " 'HEPG2-03': 2,\n",
       " 'HEPG2-04': 3,\n",
       " 'HEPG2-05': 4,\n",
       " 'HEPG2-06': 5,\n",
       " 'HEPG2-07': 6,\n",
       " 'HUVEC-01': 7,\n",
       " 'HUVEC-02': 8,\n",
       " 'HUVEC-03': 9,\n",
       " 'HUVEC-04': 10,\n",
       " 'HUVEC-05': 11,\n",
       " 'HUVEC-06': 12,\n",
       " 'HUVEC-07': 13,\n",
       " 'HUVEC-08': 14,\n",
       " 'HUVEC-09': 15,\n",
       " 'HUVEC-10': 16,\n",
       " 'HUVEC-11': 17,\n",
       " 'HUVEC-12': 18,\n",
       " 'HUVEC-13': 19,\n",
       " 'HUVEC-14': 20,\n",
       " 'HUVEC-15': 21,\n",
       " 'HUVEC-16': 22,\n",
       " 'RPE-01': 23,\n",
       " 'RPE-02': 24,\n",
       " 'RPE-03': 25,\n",
       " 'RPE-04': 26,\n",
       " 'RPE-05': 27,\n",
       " 'RPE-06': 28,\n",
       " 'RPE-07': 29,\n",
       " 'U2OS-01': 30,\n",
       " 'U2OS-02': 31,\n",
       " 'U2OS-03': 32}"
      ]
     },
     "execution_count": 17,
     "metadata": {},
     "output_type": "execute_result"
    }
   ],
   "source": [
    "meta = \"/work/h2020deciderficarra_shared/rxrx1/rxrx1_orig/metadata/meta.csv\"\n",
    "spd, mapping = get_samples_per_domain(meta)"
   ]
  }
 ],
 "metadata": {
  "kernelspec": {
   "display_name": "dinoenv",
   "language": "python",
   "name": "python3"
  },
  "language_info": {
   "codemirror_mode": {
    "name": "ipython",
    "version": 3
   },
   "file_extension": ".py",
   "mimetype": "text/x-python",
   "name": "python",
   "nbconvert_exporter": "python",
   "pygments_lexer": "ipython3",
   "version": "3.10.16"
  }
 },
 "nbformat": 4,
 "nbformat_minor": 2
}
