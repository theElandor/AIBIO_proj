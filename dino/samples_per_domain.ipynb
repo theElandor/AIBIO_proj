{
 "cells": [
  {
   "cell_type": "code",
   "execution_count": 50,
   "metadata": {},
   "outputs": [],
   "source": [
    "import pandas as pd\n",
    "import numpy as np\n",
    "def get_samples_per_domain(metadata_path):\n",
    "\t\"\"\"\n",
    "\tComputes the number of samples per domain in the dataset.\n",
    "\tWe use hardcoded offsets because we want X-01 and Y-01 to have different indices,\n",
    "\twhere X and Y are different cell types.\n",
    "\tArgs:\n",
    "\t\tmetadata_path: path to the metadata file.\n",
    "\tReturns:\n",
    "\t\tspd: a 3xN matrix where N is the number of domains in the dataset. \n",
    "\t\t\t\n",
    "\t\"\"\"\n",
    "\tprint(\"Computing samples per domain...\")\n",
    "\tdataset = pd.read_csv(metadata_path)\n",
    "\tn_of_domains = len(dataset['experiment'].unique())\t\n",
    "\ttrain = dataset[dataset['dataset'] == 'train']\n",
    "\ttest = dataset[dataset['dataset'] == 'test']\n",
    "\tval = dataset[dataset['dataset'] == 'val']\n",
    "\tprint(f\"Train set: found {len(train)} images\")\n",
    "\tprint(f\"Test set: found {len(test)} images\")\n",
    "\tprint(f\"Validation set: found {len(val)} images\")\n",
    "\toffsets = {\"HUVEC\":0, \"U2OS\": 24, \"RPE\":29, \"HEPG2\":40}\n",
    "\tspd = np.zeros((3, n_of_domains))\n",
    "\tfor s,split in enumerate([train, val, test]):\n",
    "\t\tvals = split['experiment'].value_counts()\n",
    "\t\tfor domain in vals.index:\t\t\t\n",
    "\t\t\tcell_type, experiment = domain.split(\"-\")\n",
    "\t\t\tfinal_index = offsets[cell_type] + int(experiment) - 1\n",
    "\t\t\tspd[s, final_index] = vals[domain]\n",
    "\treturn spd\n",
    "\n",
    "def get_batch_domains(metadata):\n",
    "\t\"\"\"\n",
    "\tComputes the domain indices for each sample belonging to the batch.\n",
    "\tArgs:\n",
    "\t\tmetadata: metadata returned by the dataloader.\n",
    "\tReturns:\n",
    "\t\tbatch_domains: a list of domain indices for each sample in the batch.\n",
    "\t\"\"\"\n",
    "\toffsets = {\"HUVEC\":0, \"U2OS\": 24, \"RPE\":29, \"HEPG2\":40}\n",
    "\tbatch_domains = [int(x.split(\"-\")[1])+self.offsets[x.split(\"-\")[0]]-1 for x in metadata[0][4]]\n",
    "\treturn batch_domains\n"
   ]
  },
  {
   "cell_type": "code",
   "execution_count": 49,
   "metadata": {},
   "outputs": [
    {
     "name": "stdout",
     "output_type": "stream",
     "text": [
      "Computing samples per domain...\n",
      "Train set: found 47240 images\n",
      "Test set: found 5905 images\n",
      "Validation set: found 5905 images\n"
     ]
    }
   ],
   "source": [
    "reduced = \"/work/h2020deciderficarra_shared/rxrx1/metadata/m_3c_1c_exp_strat.csv\"\n",
    "full = \"/work/h2020deciderficarra_shared/rxrx1/metadata/m_3c_experiment_strat.csv\"\n",
    "spd = get_samples_per_domain(reduced)"
   ]
  }
 ],
 "metadata": {
  "kernelspec": {
   "display_name": "dinoenv",
   "language": "python",
   "name": "python3"
  },
  "language_info": {
   "codemirror_mode": {
    "name": "ipython",
    "version": 3
   },
   "file_extension": ".py",
   "mimetype": "text/x-python",
   "name": "python",
   "nbconvert_exporter": "python",
   "pygments_lexer": "ipython3",
   "version": "3.10.16"
  }
 },
 "nbformat": 4,
 "nbformat_minor": 2
}
